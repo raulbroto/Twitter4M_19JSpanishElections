{
 "cells": [
  {
   "cell_type": "code",
   "execution_count": null,
   "metadata": {},
   "outputs": [],
   "source": [
    "import tweepy\n",
    "import json\n",
    "from pymongo import MongoClient\n",
    "\n",
    "####input your credentials here\n",
    "consumer_key = 'XXX'\n",
    "consumer_secret = 'XXX'\n",
    "access_token = 'XXX'\n",
    "access_token_secret = 'XXX'\n",
    "\n",
    "auth = tweepy.OAuthHandler(consumer_key, consumer_secret)\n",
    "auth.set_access_token(access_token, access_token_secret)\n",
    "\n",
    "client = MongoClient(username='AdminRaul', password='sere200%')\n",
    "db = client['Streaming']\n",
    "collection = db['Hashtags']\n",
    "\n",
    "# Hashtag List Madrid\n",
    "TARGETS = ['#4M', '#4Mayo', '#Elecciones4M', '#EleccionesMadrid', '4M', '4Mayo', '#DebateTelemadrid', '#HazloXMadrid', '#VotaPSOE', '#MadridConMónica', '#PorLoQueDeVerdadImporta', '#ElMadridQueImporta'  '#YoConAyuso', '#VotaLibertad', '#ProtegeMadrid', '#VotaSeguro', '#QueHableLaMayoria', '#QueHableLaMayoria4M', '#MadrileñosPorEdmundoBal', '#EligeCentro']\n",
    "\n",
    "# Hashtag List Andalusia\n",
    "# TARGETS = ['#19J', '#19Junio', '#19JAndalucia', '#Elecciones19J', '19J', '19Junio', '#EleccionesAndaluzas', '#EleccionesAndalucia', '#EleccionesAndalucia2022', '#DebateRTVE', '#ElDebateDecisivo', '#DebateDecisivo', '#AndaluciaAvanza', '#AndalucíaAvanza', '#JuanmaPresidente', '#SiVotamosGanamos', '#AndalucíaQuiereMás', '#VotaPSOE', '#CambioReal', '#OlonaPresidenta', '#VotaMacarenazo', '#VotaMacarenaPresidenta', '#PorAndalucía', '#19JAdelante', '#Adelante19J', '#VotaTere19J', '#VotaAdelante19J', '#AdelanteAndalucia', '#EnDefensaPropia', '#AndalucíaEnDefensaPropia', '#AndalucíaLiberal', '#ElCambioQueFunciona']\n",
    "\n",
    "\n",
    "print(\"Tracking: \" + str(TARGETS))"
   ]
  },
  {
   "cell_type": "code",
   "execution_count": null,
   "metadata": {},
   "outputs": [],
   "source": [
    "class StreamListener(tweepy.StreamListener):    \n",
    "\n",
    "    def on_connect(self):\n",
    "        print(\"You are now connected to the streaming API.\")\n",
    " \n",
    "    def on_error(self, status_code):\n",
    "        print('An Error has occured: ' + repr(status_code))\n",
    "        return False\n",
    " \n",
    "    def on_data(self, data):      \n",
    "        datajson = json.loads(data)\n",
    "        text = datajson['text']\n",
    "        fecha = datajson['created_at']      \n",
    "        print(\"Tweet capturado a las \"  + str(fecha) + \" con el texto \" + str(text))    \n",
    "        collection.insert_one(datajson)\n",
    "\n",
    "listener = StreamListener(api=tweepy.API(wait_on_rate_limit=True, wait_on_rate_limit_notify=True, retry_count=10, retry_delay=5)) \n",
    "streamer = tweepy.Stream(auth=auth, listener=listener)"
   ]
  },
  {
   "cell_type": "code",
   "execution_count": null,
   "metadata": {},
   "outputs": [],
   "source": [
    "from urllib3.exceptions import ProtocolError\n",
    "from urllib3.exceptions import ReadTimeoutError\n",
    "\n",
    "def start_stream(stream, **kwargs):\n",
    "    try:\n",
    "        stream.filter(**kwargs)\n",
    "#    except KeyboardInterrupt:\n",
    "#        sys.exit()\n",
    "    except ReadTimeoutError:\n",
    "        stream.disconnect()\n",
    "        print(\"ReadTimeoutError exception\")\n",
    "        start_stream(stream, **kwargs)\n",
    "    except ProtocolError:\n",
    "        stream.disconnect()\n",
    "        print(\"Protocol Error exception\")\n",
    "        start_stream(stream, **kwargs)\n",
    "    except Exception as e:\n",
    "        print(e)\n",
    "        stream.disconnect()\n",
    "        print(\"Fatal exception\")\n",
    "        start_stream(stream, **kwargs)\n",
    "        \n",
    "start_stream(streamer, track=TARGETS)"
   ]
  },
  {
   "cell_type": "code",
   "execution_count": null,
   "metadata": {},
   "outputs": [],
   "source": []
  }
 ],
 "metadata": {
  "kernelspec": {
   "display_name": "Python 3",
   "language": "python",
   "name": "python3"
  },
  "language_info": {
   "codemirror_mode": {
    "name": "ipython",
    "version": 3
   },
   "file_extension": ".py",
   "mimetype": "text/x-python",
   "name": "python",
   "nbconvert_exporter": "python",
   "pygments_lexer": "ipython3",
   "version": "3.8.10"
  }
 },
 "nbformat": 4,
 "nbformat_minor": 2
}
